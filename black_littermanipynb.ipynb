{
  "nbformat": 4,
  "nbformat_minor": 0,
  "metadata": {
    "colab": {
      "provenance": []
    },
    "kernelspec": {
      "name": "python3",
      "display_name": "Python 3"
    },
    "language_info": {
      "name": "python"
    }
  },
  "cells": [
    {
      "cell_type": "code",
      "execution_count": null,
      "metadata": {
        "id": "OIBodbDvlMtB"
      },
      "outputs": [],
      "source": [
        "import yfinance as yf\n",
        "import pandas as pd\n",
        "from scipy.optimize import minimize\n",
        "import numpy as np\n",
        "import datetime"
      ]
    },
    {
      "cell_type": "code",
      "source": [
        "#tickers = ['SPY','BND','GLD','QQQ','VTI']\n",
        "\n",
        "tickers = ['HDFCBANK.NS','ZOMATO.NS', 'BHARTIARTL.NS','ITC.NS']"
      ],
      "metadata": {
        "id": "6puE4WM90atX"
      },
      "execution_count": null,
      "outputs": []
    },
    {
      "cell_type": "code",
      "source": [
        "end_date = datetime.date.today()\n",
        "start_date = end_date - datetime.timedelta(days=365)"
      ],
      "metadata": {
        "id": "0R3-nr2-0l6J"
      },
      "execution_count": null,
      "outputs": []
    },
    {
      "cell_type": "code",
      "source": [
        "close_price = yf.download(tickers, start=start_date, end=end_date)['Close']"
      ],
      "metadata": {
        "colab": {
          "base_uri": "https://localhost:8080/"
        },
        "id": "lYrn_Huu01b_",
        "outputId": "5b4e5d96-6d4f-4472-dabd-e10649d2f63e"
      },
      "execution_count": null,
      "outputs": [
        {
          "output_type": "stream",
          "name": "stderr",
          "text": [
            "[*********************100%***********************]  4 of 4 completed\n"
          ]
        }
      ]
    },
    {
      "cell_type": "code",
      "source": [
        "log_return = np.log(close_price / close_price.shift(1))\n",
        "log_return = log_return.dropna()"
      ],
      "metadata": {
        "id": "Mth1xeRI1kYo"
      },
      "execution_count": null,
      "outputs": []
    },
    {
      "cell_type": "code",
      "source": [
        "cov_matrix = log_return.cov()*252\n",
        "print(cov_matrix)"
      ],
      "metadata": {
        "colab": {
          "base_uri": "https://localhost:8080/"
        },
        "id": "5ot6uonV1_dO",
        "outputId": "05e06506-dbb4-47aa-ecfc-291890fced04"
      },
      "execution_count": null,
      "outputs": [
        {
          "output_type": "stream",
          "name": "stdout",
          "text": [
            "Ticker         BHARTIARTL.NS  HDFCBANK.NS    ITC.NS  ZOMATO.NS\n",
            "Ticker                                                        \n",
            "BHARTIARTL.NS       0.056562     0.011764  0.013930   0.009362\n",
            "HDFCBANK.NS         0.011764     0.043558  0.007609   0.025062\n",
            "ITC.NS              0.013930     0.007609  0.039853   0.014668\n",
            "ZOMATO.NS           0.009362     0.025062  0.014668   0.177889\n"
          ]
        }
      ]
    },
    {
      "cell_type": "code",
      "source": [
        "def standard_deviation(weight, cov_matrix):\n",
        "  variance = weight.T @ cov_matrix @ weight\n",
        "  return np.sqrt(variance)"
      ],
      "metadata": {
        "id": "vahbHFnB3IGM"
      },
      "execution_count": null,
      "outputs": []
    },
    {
      "cell_type": "code",
      "source": [
        "def expected_return(weight, log_return):\n",
        "  return np.sum(log_return.mean() * 252 * weight)"
      ],
      "metadata": {
        "id": "BJ0s_5DF32Sj"
      },
      "execution_count": null,
      "outputs": []
    },
    {
      "cell_type": "code",
      "source": [
        "def sharp_ratio(weight, log_return, cov_matrix, risk_free_rate):\n",
        "  return (expected_return(weight, log_return) - risk_free_rate) / standard_deviation(weight, cov_matrix)"
      ],
      "metadata": {
        "id": "Ji4rnsJ84UOL"
      },
      "execution_count": null,
      "outputs": []
    },
    {
      "cell_type": "code",
      "source": [
        "!pip install fredapi"
      ],
      "metadata": {
        "collapsed": true,
        "colab": {
          "base_uri": "https://localhost:8080/"
        },
        "id": "dEUCSboo5yZ4",
        "outputId": "42db85e3-f1e1-4fc2-a309-62402bffcb84"
      },
      "execution_count": null,
      "outputs": [
        {
          "output_type": "stream",
          "name": "stdout",
          "text": [
            "Requirement already satisfied: fredapi in /usr/local/lib/python3.11/dist-packages (0.5.2)\n",
            "Requirement already satisfied: pandas in /usr/local/lib/python3.11/dist-packages (from fredapi) (2.2.2)\n",
            "Requirement already satisfied: numpy>=1.23.2 in /usr/local/lib/python3.11/dist-packages (from pandas->fredapi) (2.0.2)\n",
            "Requirement already satisfied: python-dateutil>=2.8.2 in /usr/local/lib/python3.11/dist-packages (from pandas->fredapi) (2.8.2)\n",
            "Requirement already satisfied: pytz>=2020.1 in /usr/local/lib/python3.11/dist-packages (from pandas->fredapi) (2025.2)\n",
            "Requirement already satisfied: tzdata>=2022.7 in /usr/local/lib/python3.11/dist-packages (from pandas->fredapi) (2025.2)\n",
            "Requirement already satisfied: six>=1.5 in /usr/local/lib/python3.11/dist-packages (from python-dateutil>=2.8.2->pandas->fredapi) (1.17.0)\n"
          ]
        }
      ]
    },
    {
      "cell_type": "code",
      "source": [
        "# from fredapi import Fred\n",
        "\n",
        "# fred = Fred(api_key = \"API\")\n",
        "# ten_year_treasury_rate = fred.get_series_latest_release('GS10')/100\n",
        "\n",
        "# risk_free_rate = ten_year_treasury_rate.iloc[-1]\n",
        "# print(risk_free_rate)\n",
        "\n",
        "risk_free_rate = 0.0644"
      ],
      "metadata": {
        "id": "kvOMKQDH5nOY"
      },
      "execution_count": null,
      "outputs": []
    },
    {
      "cell_type": "code",
      "source": [
        "def negetive_sharp_ratio(weight, log_return, cov_matrix, risk_free_rate):\n",
        "  return -sharp_ratio(weight, log_return, cov_matrix, risk_free_rate)"
      ],
      "metadata": {
        "id": "AqrG8laB6hKb"
      },
      "execution_count": null,
      "outputs": []
    },
    {
      "cell_type": "code",
      "source": [
        "constraints = {'type': 'eq', 'fun': lambda weights: np.sum(weights) - 1}\n",
        "bounds = [(0, 0.4) for _ in range(len(tickers))]\n",
        "initial_weights = np.array([1/len(tickers)]*len(tickers))\n",
        "\n",
        "optimized_results = minimize(negetive_sharp_ratio, initial_weights, args=(log_return, cov_matrix, risk_free_rate), method='SLSQP', constraints=constraints, bounds=bounds)"
      ],
      "metadata": {
        "id": "AQfLqulj668C"
      },
      "execution_count": null,
      "outputs": []
    },
    {
      "cell_type": "code",
      "source": [
        "optimal_weights = optimized_results.x\n",
        "\n",
        "print(\"Optimal Weights:\")\n",
        "for ticker, weight in zip(tickers, optimal_weights):\n",
        "    print(f\"{ticker}: {weight:.4f}\")\n",
        "\n",
        "optimal_portfolio_return = expected_return(optimal_weights, log_return)\n",
        "optimal_portfolio_volatility = standard_deviation(optimal_weights, cov_matrix)\n",
        "optimal_sharpe_ratio = sharp_ratio(optimal_weights, log_return, cov_matrix, risk_free_rate)\n",
        "\n",
        "print(f\"Expected Annual Return: {optimal_portfolio_return:.4f}\")\n",
        "print(f\"Expected Volatility: {optimal_portfolio_volatility:.4f}\")\n",
        "print(f\"Sharpe Ratio: {optimal_sharpe_ratio:.4f}\")"
      ],
      "metadata": {
        "colab": {
          "base_uri": "https://localhost:8080/"
        },
        "id": "vgGyp_U-7I1l",
        "outputId": "0d93382b-56b7-472d-9c97-6043dc2082da"
      },
      "execution_count": null,
      "outputs": [
        {
          "output_type": "stream",
          "name": "stdout",
          "text": [
            "Optimal Weights:\n",
            "HDFCBANK.NS: 0.4000\n",
            "ZOMATO.NS: 0.4000\n",
            "BHARTIARTL.NS: 0.1284\n",
            "ITC.NS: 0.0716\n",
            "Expected Annual Return: 0.2449\n",
            "Expected Volatility: 0.1606\n",
            "Sharpe Ratio: 1.1234\n"
          ]
        }
      ]
    },
    {
      "cell_type": "code",
      "source": [
        "import matplotlib.pyplot as plt\n",
        "\n",
        "plt.figure(figsize=(10, 6))\n",
        "plt.bar(tickers, optimal_weights)\n",
        "\n",
        "plt.xlabel('Assets')\n",
        "plt.ylabel('Optimal Weights')\n",
        "plt.title('Optimal Portfolio Weights')\n",
        "\n",
        "plt.show()"
      ],
      "metadata": {
        "colab": {
          "base_uri": "https://localhost:8080/",
          "height": 564
        },
        "id": "_csIOnq97Rdo",
        "outputId": "c6abbbe9-1b18-4b39-cabb-0d7e8acd8c48"
      },
      "execution_count": null,
      "outputs": [
        {
          "output_type": "display_data",
          "data": {
            "text/plain": [
              "<Figure size 1000x600 with 1 Axes>"
            ],
            "image/png": "[encoded data removed]"
          },
          "metadata": {}
        }
      ]
    }
  ]
}
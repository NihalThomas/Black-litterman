{
  "cells": [
    {
      "cell_type": "code",
      "execution_count": 49,
      "metadata": {
        "id": "OIBodbDvlMtB"
      },
      "outputs": [],
      "source": [
        "import yfinance as yf\n",
        "import pandas as pd\n",
        "from scipy.optimize import minimize\n",
        "import numpy as np\n",
        "import datetime"
      ]
    },
    {
      "cell_type": "code",
      "execution_count": 50,
      "metadata": {
        "id": "6puE4WM90atX"
      },
      "outputs": [],
      "source": [
        "tickers = ['SPY','BND','GLD','QQQ','VTI']\n",
        "\n",
        "#tickers = ['HDFCBANK.NS','ZOMATO.NS', 'BHARTIARTL.NS','ITC.NS']"
      ]
    },
    {
      "cell_type": "code",
      "execution_count": 51,
      "metadata": {
        "id": "0R3-nr2-0l6J"
      },
      "outputs": [],
      "source": [
        "end_date = datetime.date.today()\n",
        "start_date = end_date - datetime.timedelta(days=365)"
      ]
    },
    {
      "cell_type": "code",
      "execution_count": 52,
      "metadata": {
        "colab": {
          "base_uri": "https://localhost:8080/"
        },
        "id": "lYrn_Huu01b_",
        "outputId": "2b60af8e-349e-4871-8455-c592c15f4274"
      },
      "outputs": [
        {
          "output_type": "stream",
          "name": "stderr",
          "text": [
            "[*********************100%***********************]  5 of 5 completed\n"
          ]
        }
      ],
      "source": [
        "close_price = yf.download(tickers, start=start_date, end=end_date)['Close']"
      ]
    },
    {
      "cell_type": "code",
      "execution_count": 53,
      "metadata": {
        "id": "Mth1xeRI1kYo"
      },
      "outputs": [],
      "source": [
        "log_return = np.log(close_price / close_price.shift(1))\n",
        "log_return = log_return.dropna()"
      ]
    },
    {
      "cell_type": "code",
      "execution_count": 54,
      "metadata": {
        "colab": {
          "base_uri": "https://localhost:8080/"
        },
        "id": "5ot6uonV1_dO",
        "outputId": "227c2bd7-eccb-4529-ce6a-c87501e135b4"
      },
      "outputs": [
        {
          "output_type": "stream",
          "name": "stdout",
          "text": [
            "Ticker       BND       GLD       QQQ       SPY       VTI\n",
            "Ticker                                                  \n",
            "BND     0.002782  0.001887  0.000569  0.000955  0.000988\n",
            "GLD     0.001887  0.026029  0.011078  0.008885  0.008975\n",
            "QQQ     0.000569  0.011078  0.060650  0.046060  0.045797\n",
            "SPY     0.000955  0.008885  0.046060  0.037786  0.037694\n",
            "VTI     0.000988  0.008975  0.045797  0.037694  0.037800\n"
          ]
        }
      ],
      "source": [
        "cov_matrix = log_return.cov()*252\n",
        "print(cov_matrix)"
      ]
    },
    {
      "cell_type": "code",
      "execution_count": 55,
      "metadata": {
        "id": "vahbHFnB3IGM"
      },
      "outputs": [],
      "source": [
        "def standard_deviation(weight, cov_matrix):\n",
        "  variance = weight.T @ cov_matrix @ weight\n",
        "  return np.sqrt(variance)"
      ]
    },
    {
      "cell_type": "code",
      "execution_count": 56,
      "metadata": {
        "id": "BJ0s_5DF32Sj"
      },
      "outputs": [],
      "source": [
        "def expected_return(weight, log_return):\n",
        "  return np.sum(log_return.mean() * 252 * weight)"
      ]
    },
    {
      "cell_type": "code",
      "execution_count": 57,
      "metadata": {
        "id": "Ji4rnsJ84UOL"
      },
      "outputs": [],
      "source": [
        "def sharp_ratio(weight, log_return, cov_matrix, risk_free_rate):\n",
        "  return (expected_return(weight, log_return) - risk_free_rate) / standard_deviation(weight, cov_matrix)"
      ]
    },
    {
      "cell_type": "code",
      "execution_count": 58,
      "metadata": {
        "colab": {
          "base_uri": "https://localhost:8080/"
        },
        "collapsed": true,
        "id": "dEUCSboo5yZ4",
        "outputId": "1767788a-eeac-4d5b-b5f2-a20f73eb4da4"
      },
      "outputs": [
        {
          "output_type": "stream",
          "name": "stdout",
          "text": [
            "Requirement already satisfied: fredapi in /usr/local/lib/python3.11/dist-packages (0.5.2)\n",
            "Requirement already satisfied: pandas in /usr/local/lib/python3.11/dist-packages (from fredapi) (2.2.2)\n",
            "Requirement already satisfied: numpy>=1.23.2 in /usr/local/lib/python3.11/dist-packages (from pandas->fredapi) (2.0.2)\n",
            "Requirement already satisfied: python-dateutil>=2.8.2 in /usr/local/lib/python3.11/dist-packages (from pandas->fredapi) (2.8.2)\n",
            "Requirement already satisfied: pytz>=2020.1 in /usr/local/lib/python3.11/dist-packages (from pandas->fredapi) (2025.2)\n",
            "Requirement already satisfied: tzdata>=2022.7 in /usr/local/lib/python3.11/dist-packages (from pandas->fredapi) (2025.2)\n",
            "Requirement already satisfied: six>=1.5 in /usr/local/lib/python3.11/dist-packages (from python-dateutil>=2.8.2->pandas->fredapi) (1.17.0)\n"
          ]
        }
      ],
      "source": [
        "!pip install fredapi"
      ]
    },
    {
      "cell_type": "code",
      "execution_count": 59,
      "metadata": {
        "id": "kvOMKQDH5nOY",
        "colab": {
          "base_uri": "https://localhost:8080/"
        },
        "outputId": "79a297ba-f4fc-4003-e74b-54c2a4fde96d"
      },
      "outputs": [
        {
          "output_type": "stream",
          "name": "stdout",
          "text": [
            "0.042800000000000005\n"
          ]
        }
      ],
      "source": [
        "from fredapi import Fred\n",
        "\n",
        "fred = Fred(api_key = \"8ba31b9da271a539fe05b47630345a08\")\n",
        "ten_year_treasury_rate = fred.get_series_latest_release('GS10')/100\n",
        "\n",
        "risk_free_rate = ten_year_treasury_rate.iloc[-1]\n",
        "print(risk_free_rate)\n",
        "\n",
        "#risk_free_rate = 0.0644"
      ]
    },
    {
      "cell_type": "code",
      "execution_count": 60,
      "metadata": {
        "id": "AqrG8laB6hKb"
      },
      "outputs": [],
      "source": [
        "def negetive_sharp_ratio(weight, log_return, cov_matrix, risk_free_rate):\n",
        "  return -sharp_ratio(weight, log_return, cov_matrix, risk_free_rate)"
      ]
    },
    {
      "cell_type": "code",
      "execution_count": 61,
      "metadata": {
        "id": "AQfLqulj668C"
      },
      "outputs": [],
      "source": [
        "constraints = {'type': 'eq', 'fun': lambda weights: np.sum(weights) - 1}\n",
        "bounds = [(0, 0.4) for _ in range(len(tickers))]\n",
        "initial_weights = np.array([1/len(tickers)]*len(tickers))\n",
        "\n",
        "optimized_results = minimize(negetive_sharp_ratio, initial_weights, args=(log_return, cov_matrix, risk_free_rate), method='SLSQP', constraints=constraints, bounds=bounds)"
      ]
    },
    {
      "cell_type": "code",
      "execution_count": 62,
      "metadata": {
        "colab": {
          "base_uri": "https://localhost:8080/"
        },
        "id": "vgGyp_U-7I1l",
        "outputId": "b24f99d3-c735-425a-83b4-e03b6a94dcfa"
      },
      "outputs": [
        {
          "output_type": "stream",
          "name": "stdout",
          "text": [
            "Optimal Weights:\n",
            "SPY: 0.4000\n",
            "BND: 0.4000\n",
            "GLD: 0.0000\n",
            "QQQ: 0.2000\n",
            "VTI: 0.0000\n",
            "Expected Annual Return: 0.1587\n",
            "Expected Volatility: 0.0911\n",
            "Sharpe Ratio: 1.2723\n"
          ]
        }
      ],
      "source": [
        "optimal_weights = optimized_results.x\n",
        "\n",
        "print(\"Optimal Weights:\")\n",
        "for ticker, weight in zip(tickers, optimal_weights):\n",
        "    print(f\"{ticker}: {weight:.4f}\")\n",
        "\n",
        "optimal_portfolio_return = expected_return(optimal_weights, log_return)\n",
        "optimal_portfolio_volatility = standard_deviation(optimal_weights, cov_matrix)\n",
        "optimal_sharpe_ratio = sharp_ratio(optimal_weights, log_return, cov_matrix, risk_free_rate)\n",
        "\n",
        "print(f\"Expected Annual Return: {optimal_portfolio_return:.4f}\")\n",
        "print(f\"Expected Volatility: {optimal_portfolio_volatility:.4f}\")\n",
        "print(f\"Sharpe Ratio: {optimal_sharpe_ratio:.4f}\")"
      ]
    },
    {
      "cell_type": "code",
      "execution_count": 63,
      "metadata": {
        "colab": {
          "base_uri": "https://localhost:8080/",
          "height": 564
        },
        "id": "_csIOnq97Rdo",
        "outputId": "15838ad3-0ef1-4646-834d-db3eadcc733c"
      },
      "outputs": [
        {
          "output_type": "display_data",
          "data": {
            "text/plain": [
              "<Figure size 1000x600 with 1 Axes>"
            ],
            "image/png": "[encoded data removed]"
          },
          "metadata": {}
        }
      ],
      "source": [
        "import matplotlib.pyplot as plt\n",
        "\n",
        "plt.figure(figsize=(10, 6))\n",
        "plt.bar(tickers, optimal_weights)\n",
        "\n",
        "plt.xlabel('Assets')\n",
        "plt.ylabel('Optimal Weights')\n",
        "plt.title('Optimal Portfolio Weights')\n",
        "\n",
        "plt.show()"
      ]
    },
    {
      "cell_type": "code",
      "execution_count": 64,
      "metadata": {
        "id": "44-VwUhFOrZR"
      },
      "outputs": [],
      "source": [
        "# Monte Carlo Simulation of Portfolio Returns\n",
        "num_simulations = 10000\n",
        "time_horizon_years = 1\n",
        "\n",
        "# Simulate correlated asset returns using multivariate normal distribution\n",
        "simulated_asset_returns = np.random.multivariate_normal(\n",
        "    mean=log_return.mean() * 252,  # annualized expected returns\n",
        "    cov=cov_matrix * time_horizon_years,\n",
        "    size=num_simulations\n",
        ")\n",
        "\n",
        "# Compute portfolio returns for each simulation\n",
        "simulated_portfolio_returns = simulated_asset_returns @ optimal_weights"
      ]
    },
    {
      "cell_type": "code",
      "execution_count": 65,
      "metadata": {
        "colab": {
          "base_uri": "https://localhost:8080/",
          "height": 564
        },
        "id": "InhzJp_UOxF4",
        "outputId": "35bb8aa5-8717-4180-ca74-9dcbfd0b67c5"
      },
      "outputs": [
        {
          "output_type": "display_data",
          "data": {
            "text/plain": [
              "<Figure size 1000x600 with 1 Axes>"
            ],
            "image/png": "[encoded data removed]"
          },
          "metadata": {}
        }
      ],
      "source": [
        "# Plot histogram of simulated returns\n",
        "plt.figure(figsize=(10, 6))\n",
        "plt.hist(simulated_portfolio_returns, bins=100, color='skyblue', edgecolor='black')\n",
        "plt.title('Monte Carlo Simulation of Portfolio Returns (1 Year)')\n",
        "plt.xlabel('Portfolio Return')\n",
        "plt.ylabel('Frequency')\n",
        "plt.grid(True)\n",
        "plt.show()"
      ]
    },
    {
      "cell_type": "code",
      "execution_count": 66,
      "metadata": {
        "colab": {
          "base_uri": "https://localhost:8080/"
        },
        "id": "o9UVrNhSOvHf",
        "outputId": "d75c22b4-9cbf-4549-a5bf-10cc250a708a"
      },
      "outputs": [
        {
          "output_type": "stream",
          "name": "stdout",
          "text": [
            "Value at Risk (95% confidence): 1.16%\n"
          ]
        }
      ],
      "source": [
        "# Value at Risk (95% confidence)\n",
        "VaR_95 = np.percentile(simulated_portfolio_returns, 5)\n",
        "print(f\"Value at Risk (95% confidence): {VaR_95:.2%}\")"
      ]
    },
    {
      "cell_type": "code",
      "execution_count": 67,
      "metadata": {
        "colab": {
          "base_uri": "https://localhost:8080/"
        },
        "id": "tiEGpBrFPTv-",
        "outputId": "21b273a9-050b-45fc-d162-6887cf65a951"
      },
      "outputs": [
        {
          "output_type": "stream",
          "name": "stdout",
          "text": [
            "Conditional VaR (CVaR 95%): -2.78%\n"
          ]
        }
      ],
      "source": [
        "CVaR_95 = simulated_portfolio_returns[simulated_portfolio_returns <= VaR_95].mean()\n",
        "print(f\"Conditional VaR (CVaR 95%): {CVaR_95:.2%}\")"
      ]
    }
  ],
  "metadata": {
    "colab": {
      "provenance": []
    },
    "kernelspec": {
      "display_name": "Python 3",
      "name": "python3"
    },
    "language_info": {
      "name": "python"
    }
  },
  "nbformat": 4,
  "nbformat_minor": 0
}